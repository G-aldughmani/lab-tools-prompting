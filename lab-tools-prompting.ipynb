{
 "cells": [
  {
   "cell_type": "markdown",
   "id": "77f66dbe-192b-471c-9cb8-e9b365e61bbb",
   "metadata": {},
   "source": [
    "# Lab | Tools prompting\n",
    "\n",
    "**Replace the existing two tools decorators, by creating 3 new ones and adjust the prompts accordingly**"
   ]
  },
  {
   "cell_type": "markdown",
   "id": "14b94240",
   "metadata": {},
   "source": [
    "### How to add ad-hoc tool calling capability to LLMs and Chat Models\n",
    "\n",
    ":::{.callout-caution}\n",
    "\n",
    "Some models have been fine-tuned for tool calling and provide a dedicated API for tool calling. Generally, such models are better at tool calling than non-fine-tuned models, and are recommended for use cases that require tool calling. Please see the [how to use a chat model to call tools](https://python.langchain.com/docs/how_to/tool_calling/) guide for more information.\n",
    "\n",
    "In this guide, we'll see how to add **ad-hoc** tool calling support to a chat model. This is an alternative method to invoke tools if you're using a model that does not natively support tool calling.\n",
    "\n",
    "We'll do this by simply writing a prompt that will get the model to invoke the appropriate tools. Here's a diagram of the logic:\n",
    "\n",
    "<br>\n",
    "\n",
    "![chain](https://education-team-2020.s3.eu-west-1.amazonaws.com/ai-eng/tool_chain.svg)"
   ]
  },
  {
   "cell_type": "markdown",
   "id": "a0a22cb8-19e7-450a-9d1b-6848d2c81cd1",
   "metadata": {},
   "source": [
    "## Setup\n",
    "\n",
    "We'll need to install the following packages:"
   ]
  },
  {
   "cell_type": "code",
   "execution_count": 1,
   "id": "8c556c5e-b785-428b-8e7d-efd34a2a1adb",
   "metadata": {},
   "outputs": [
    {
     "name": "stdout",
     "output_type": "stream",
     "text": [
      "Note: you may need to restart the kernel to use updated packages.\n"
     ]
    }
   ],
   "source": [
    "%pip install --upgrade --quiet langchain langchain-community langchain_openai"
   ]
  },
  {
   "cell_type": "markdown",
   "id": "897bc01e-cc2b-4400-8a64-db4aa56085d3",
   "metadata": {},
   "source": [
    "If you'd like to use LangSmith, uncomment the below:"
   ]
  },
  {
   "cell_type": "code",
   "execution_count": 1,
   "id": "5efb4170-b95b-4d29-8f57-09509f3ba6df",
   "metadata": {},
   "outputs": [],
   "source": [
    "import getpass\n",
    "import os\n",
    "# os.environ[\"LANGCHAIN_TRACING_V2\"] = \"true\"\n",
    "# os.environ[\"LANGCHAIN_API_KEY\"] = getpass.getpass()"
   ]
  },
  {
   "cell_type": "markdown",
   "id": "7ec6409b-21e5-4d0a-8a46-c4ef0b055dd3",
   "metadata": {},
   "source": [
    "You can select any of the given models for this how-to guide. Keep in mind that most of these models already [support native tool calling](https://python.langchain.com/docs/integrations/chat), so using the prompting strategy shown here doesn't make sense for these models, and instead you should follow the [how to use a chat model to call tools](https://python.langchain.com/docs/how_to/tool_calling/) guide.\n",
    "\n",
    "```{=mdx}\n",
    "import ChatModelTabs from \"@theme/ChatModelTabs\";\n",
    "\n",
    "<ChatModelTabs openaiParams={`model=\"gpt-4\"`} />\n",
    "```\n",
    "\n",
    "To illustrate the idea, we'll use `phi3` via Ollama, which does **NOT** have native support for tool calling. If you'd like to use `Ollama` as well follow [these instructions](https://python.langchain.com/docs/integrations/chat/ollama)."
   ]
  },
  {
   "cell_type": "code",
   "execution_count": 3,
   "id": "424be968-2806-4d1a-a6aa-5499ae20fac5",
   "metadata": {},
   "outputs": [
    {
     "name": "stderr",
     "output_type": "stream",
     "text": [
      "/var/folders/c8/w8kx66gd59z1pfs7k6npw6d80000gn/T/ipykernel_5476/1427064109.py:3: LangChainDeprecationWarning: The class `Ollama` was deprecated in LangChain 0.3.1 and will be removed in 1.0.0. An updated version of the class exists in the :class:`~langchain-ollama package and should be used instead. To use it run `pip install -U :class:`~langchain-ollama` and import as `from :class:`~langchain_ollama import OllamaLLM``.\n",
      "  model = Ollama(model=\"phi3\")\n"
     ]
    }
   ],
   "source": [
    "from langchain_community.llms import Ollama\n",
    "\n",
    "model = Ollama(model=\"phi3\")"
   ]
  },
  {
   "cell_type": "markdown",
   "id": "a88a1463",
   "metadata": {},
   "source": [
    "\n",
    "#  How to Install and Run Ollama with the Phi-3 Model\n",
    "\n",
    "This guide walks you through installing **Ollama** and running the **Phi-3** model on Windows, macOS, and Linux.\n",
    "\n",
    "---\n",
    "\n",
    "## Windows\n",
    "\n",
    "1. **Download Ollama for Windows**  \n",
    "   Go to: [https://ollama.com/download](https://ollama.com/download)  \n",
    "   Download and run the installer.\n",
    "\n",
    "2. **Verify Installation**  \n",
    "   Open **Command Prompt** and type:\n",
    "   ```bash\n",
    "   ollama --version\n",
    "   ```\n",
    "\n",
    "3. **Run the Phi-3 Model**  \n",
    "   In the same terminal:\n",
    "   ```bash\n",
    "   ollama run phi3\n",
    "   ```\n",
    "\n",
    "4. **If you get a CUDA error (GPU memory issue)**  \n",
    "   Run Ollama in **CPU mode**:\n",
    "   ```bash\n",
    "   set OLLAMA_NO_CUDA=1\n",
    "   ollama run phi3\n",
    "   ```\n",
    "\n",
    "---\n",
    "\n",
    "##  macOS\n",
    "\n",
    "1. **Install via Homebrew**  \n",
    "   Open the Terminal and run:\n",
    "   ```bash\n",
    "   brew install ollama\n",
    "   ```\n",
    "\n",
    "2. **Run the Phi-3 Model**\n",
    "   ```bash\n",
    "   ollama run phi3\n",
    "   ```\n",
    "\n",
    "3. **To force CPU mode (no GPU)**\n",
    "   ```bash\n",
    "   export OLLAMA_NO_CUDA=1\n",
    "   ollama run phi3\n",
    "   ```\n",
    "\n",
    "---\n",
    "\n",
    "##  Linux\n",
    "\n",
    "1. **Install Ollama**  \n",
    "   Open a terminal and run:\n",
    "   ```bash\n",
    "   curl -fsSL https://ollama.com/install.sh | sh\n",
    "   ```\n",
    "\n",
    "2. **Run the Phi-3 Model**\n",
    "   ```bash\n",
    "   ollama run phi3\n",
    "   ```\n",
    "\n",
    "3. **To force CPU mode (no GPU)**\n",
    "   ```bash\n",
    "   export OLLAMA_NO_CUDA=1\n",
    "   ollama run phi3\n",
    "   ```\n",
    "\n",
    "---\n",
    "\n",
    "##  Notes\n",
    "\n",
    "- The first time you run `ollama run phi3`, it will **download the model**, so make sure you’re connected to the internet.\n",
    "- Once downloaded, it works **offline**.\n",
    "- Keep the terminal open and running in the background while using Ollama from your code or notebook.\n"
   ]
  },
  {
   "cell_type": "markdown",
   "id": "68946881",
   "metadata": {},
   "source": [
    "## Create a tool\n",
    "\n",
    "First, let's create an `add` and `multiply` tools. For more information on creating custom tools, please see [this guide](https://python.langchain.com/docs/how_to/custom_tools/)."
   ]
  },
  {
   "cell_type": "code",
   "execution_count": 4,
   "id": "4548e6fa-0f9b-4d7a-8fa5-66cec0350e5f",
   "metadata": {},
   "outputs": [
    {
     "name": "stdout",
     "output_type": "stream",
     "text": [
      "--\n",
      "multiply\n",
      "Multiply two numbers together.\n",
      "{'x': {'title': 'X', 'type': 'number'}, 'y': {'title': 'Y', 'type': 'number'}}\n",
      "--\n",
      "add\n",
      "Add two numbers.\n",
      "{'x': {'title': 'X', 'type': 'integer'}, 'y': {'title': 'Y', 'type': 'integer'}}\n"
     ]
    }
   ],
   "source": [
    "from langchain_core.tools import tool\n",
    "\n",
    "\n",
    "@tool\n",
    "def multiply(x: float, y: float) -> float:\n",
    "    \"\"\"Multiply two numbers together.\"\"\"\n",
    "    return x * y\n",
    "\n",
    "\n",
    "@tool\n",
    "def add(x: int, y: int) -> int:\n",
    "    \"Add two numbers.\"\n",
    "    return x + y\n",
    "\n",
    "\n",
    "tools = [multiply, add]\n",
    "\n",
    "# Let's inspect the tools\n",
    "for t in tools:\n",
    "    print(\"--\")\n",
    "    print(t.name)\n",
    "    print(t.description)\n",
    "    print(t.args)"
   ]
  },
  {
   "cell_type": "code",
   "execution_count": 5,
   "id": "be77e780",
   "metadata": {},
   "outputs": [
    {
     "data": {
      "text/plain": [
       "20.0"
      ]
     },
     "execution_count": 5,
     "metadata": {},
     "output_type": "execute_result"
    }
   ],
   "source": [
    "multiply.invoke({\"x\": 4, \"y\": 5})"
   ]
  },
  {
   "cell_type": "markdown",
   "id": "15dd690e-e54d-4209-91a4-181f69a452ac",
   "metadata": {},
   "source": [
    "## Creating our prompt\n",
    "\n",
    "We'll want to write a prompt that specifies the tools the model has access to, the arguments to those tools, and the desired output format of the model. In this case we'll instruct it to output a JSON blob of the form `{\"name\": \"...\", \"arguments\": {...}}`."
   ]
  },
  {
   "cell_type": "code",
   "execution_count": 6,
   "id": "2063b564-25ca-4729-a45f-ba4633175b04",
   "metadata": {},
   "outputs": [
    {
     "name": "stdout",
     "output_type": "stream",
     "text": [
      "multiply(x: float, y: float) -> float - Multiply two numbers together.\n",
      "add(x: int, y: int) -> int - Add two numbers.\n"
     ]
    }
   ],
   "source": [
    "from langchain_core.output_parsers import JsonOutputParser\n",
    "from langchain_core.prompts import ChatPromptTemplate\n",
    "from langchain_core.tools import render_text_description\n",
    "\n",
    "rendered_tools = render_text_description(tools)\n",
    "print(rendered_tools)"
   ]
  },
  {
   "cell_type": "code",
   "execution_count": 7,
   "id": "f02f1dce-76e7-4ca9-9bac-5af496131fe1",
   "metadata": {},
   "outputs": [],
   "source": [
    "system_prompt = f\"\"\"\\\n",
    "You are an assistant that has access to the following set of tools. \n",
    "Here are the names and descriptions for each tool:\n",
    "\n",
    "{rendered_tools}\n",
    "\n",
    "Given the user input, return the name and input of the tool to use. \n",
    "Return your response as a JSON blob with 'name' and 'arguments' keys.\n",
    "\n",
    "The `arguments` should be a dictionary, with keys corresponding \n",
    "to the argument names and the values corresponding to the requested values.\n",
    "\"\"\"\n",
    "\n",
    "prompt = ChatPromptTemplate.from_messages(\n",
    "    [(\"system\", system_prompt), (\"user\", \"{input}\")]\n",
    ")"
   ]
  },
  {
   "cell_type": "code",
   "execution_count": 8,
   "id": "f8623e03-60eb-4439-b57b-ecbcebc61b58",
   "metadata": {},
   "outputs": [
    {
     "name": "stdout",
     "output_type": "stream",
     "text": [
      "```json\n",
      "{\n",
      "  \"name\": \"add\",\n",
      "  \"arguments\": {\n",
      "    \"x\": 3,\n",
      "    \"y\": 1132\n",
      "  }\n",
      "}\n",
      "```\n",
      "\n",
      "The appropriate tool to use here is `add`, with the argument values being `3` for x and `1132` for y.\n"
     ]
    }
   ],
   "source": [
    "chain = prompt | model\n",
    "message = chain.invoke({\"input\": \"what's 3 plus 1132\"})\n",
    "\n",
    "# Let's take a look at the output from the model\n",
    "# if the model is an LLM (not a chat model), the output will be a string.\n",
    "if isinstance(message, str):\n",
    "    print(message)\n",
    "else:  # Otherwise it's a chat model\n",
    "    print(message.content)"
   ]
  },
  {
   "cell_type": "markdown",
   "id": "14df2cd5-b6fa-4b10-892d-e8692c7931e5",
   "metadata": {},
   "source": [
    "## Adding an output parser\n",
    "\n",
    "We'll use the `JsonOutputParser` for parsing our models output to JSON."
   ]
  },
  {
   "cell_type": "code",
   "execution_count": 9,
   "id": "f129f5bd-127c-4c95-8f34-8f437da7ca8f",
   "metadata": {},
   "outputs": [
    {
     "data": {
      "text/plain": [
       "{'name': 'multiply', 'arguments': {'x': 13, 'y': 4}}"
      ]
     },
     "execution_count": 9,
     "metadata": {},
     "output_type": "execute_result"
    }
   ],
   "source": [
    "from langchain_core.output_parsers import JsonOutputParser\n",
    "\n",
    "chain = prompt | model | JsonOutputParser()\n",
    "chain.invoke({\"input\": \"what's thirteen times 4\"})"
   ]
  },
  {
   "cell_type": "markdown",
   "id": "e1f08255-f146-4f4a-be43-5c21c1d3ae83",
   "metadata": {},
   "source": [
    ":::{.callout-important}\n",
    "\n",
    "🎉 Amazing! 🎉 We now instructed our model on how to **request** that a tool be invoked.\n",
    "\n",
    "Now, let's create some logic to actually run the tool!\n",
    ":::"
   ]
  },
  {
   "cell_type": "markdown",
   "id": "8e29dd4c-8eb5-457f-92d1-8add076404dc",
   "metadata": {},
   "source": [
    "## Invoking the tool 🏃\n",
    "\n",
    "Now that the model can request that a tool be invoked, we need to write a function that can actually invoke \n",
    "the tool.\n",
    "\n",
    "The function will select the appropriate tool by name, and pass to it the arguments chosen by the model."
   ]
  },
  {
   "cell_type": "code",
   "execution_count": 10,
   "id": "faee95e0-4095-4310-991f-9e9465c6738e",
   "metadata": {},
   "outputs": [],
   "source": [
    "from typing import Any, Dict, Optional, TypedDict\n",
    "\n",
    "from langchain_core.runnables import RunnableConfig\n",
    "\n",
    "\n",
    "class ToolCallRequest(TypedDict):\n",
    "    \"\"\"A typed dict that shows the inputs into the invoke_tool function.\"\"\"\n",
    "\n",
    "    name: str\n",
    "    arguments: Dict[str, Any]\n",
    "\n",
    "\n",
    "def invoke_tool(\n",
    "    tool_call_request: ToolCallRequest, config: Optional[RunnableConfig] = None\n",
    "):\n",
    "    \"\"\"A function that we can use the perform a tool invocation.\n",
    "\n",
    "    Args:\n",
    "        tool_call_request: a dict that contains the keys name and arguments.\n",
    "            The name must match the name of a tool that exists.\n",
    "            The arguments are the arguments to that tool.\n",
    "        config: This is configuration information that LangChain uses that contains\n",
    "            things like callbacks, metadata, etc.See LCEL documentation about RunnableConfig.\n",
    "\n",
    "    Returns:\n",
    "        output from the requested tool\n",
    "    \"\"\"\n",
    "    tool_name_to_tool = {tool.name: tool for tool in tools}\n",
    "    name = tool_call_request[\"name\"]\n",
    "    requested_tool = tool_name_to_tool[name]\n",
    "    return requested_tool.invoke(tool_call_request[\"arguments\"], config=config)"
   ]
  },
  {
   "cell_type": "markdown",
   "id": "f4957532-9e0c-47f6-bb62-0fd789ac1d3e",
   "metadata": {},
   "source": [
    "Let's test this out 🧪!"
   ]
  },
  {
   "cell_type": "code",
   "execution_count": 11,
   "id": "d0ea3b2a-8fb2-4016-83c8-a5d3e78fedbc",
   "metadata": {},
   "outputs": [
    {
     "data": {
      "text/plain": [
       "15.0"
      ]
     },
     "execution_count": 11,
     "metadata": {},
     "output_type": "execute_result"
    }
   ],
   "source": [
    "invoke_tool({\"name\": \"multiply\", \"arguments\": {\"x\": 3, \"y\": 5}})"
   ]
  },
  {
   "cell_type": "markdown",
   "id": "715af6e1-935d-4bc0-a3d2-646ecf8a329b",
   "metadata": {},
   "source": [
    "## Let's put it together\n",
    "\n",
    "Let's put it together into a chain that creates a calculator with add and multiplication capabilities."
   ]
  },
  {
   "cell_type": "code",
   "execution_count": 12,
   "id": "0555b384-fde6-4404-86e0-7ea199003d58",
   "metadata": {},
   "outputs": [
    {
     "data": {
      "text/plain": [
       "53.83784653"
      ]
     },
     "execution_count": 12,
     "metadata": {},
     "output_type": "execute_result"
    }
   ],
   "source": [
    "chain = prompt | model | JsonOutputParser() | invoke_tool\n",
    "chain.invoke({\"input\": \"what's thirteen times 4.14137281\"})"
   ]
  },
  {
   "cell_type": "markdown",
   "id": "b4a9c5aa-f60a-4017-af6f-1ff6e04bfb61",
   "metadata": {},
   "source": [
    "## Returning tool inputs\n",
    "\n",
    "It can be helpful to return not only tool outputs but also tool inputs. We can easily do this with LCEL by `RunnablePassthrough.assign`-ing the tool output. This will take whatever the input is to the RunnablePassrthrough components (assumed to be a dictionary) and add a key to it while still passing through everything that's currently in the input:"
   ]
  },
  {
   "cell_type": "code",
   "execution_count": 13,
   "id": "45404406-859d-4caa-8b9d-5838162c80a0",
   "metadata": {},
   "outputs": [
    {
     "data": {
      "text/plain": [
       "{'name': 'multiply',\n",
       " 'arguments': {'x': 13, 'y': 4.14137281},\n",
       " 'output': 53.83784653}"
      ]
     },
     "execution_count": 13,
     "metadata": {},
     "output_type": "execute_result"
    }
   ],
   "source": [
    "from langchain_core.runnables import RunnablePassthrough\n",
    "\n",
    "chain = (\n",
    "    prompt | model | JsonOutputParser() | RunnablePassthrough.assign(output=invoke_tool)\n",
    ")\n",
    "chain.invoke({\"input\": \"what's thirteen times 4.14137281\"})"
   ]
  },
  {
   "cell_type": "markdown",
   "id": "1797fe82-ea35-4cba-834a-1caf9740d184",
   "metadata": {},
   "source": [
    "## What's next?\n",
    "\n",
    "This how-to guide shows the \"happy path\" when the model correctly outputs all the required tool information.\n",
    "\n",
    "In reality, if you're using more complex tools, you will start encountering errors from the model, especially for models that have not been fine tuned for tool calling and for less capable models.\n",
    "\n",
    "You will need to be prepared to add strategies to improve the output from the model; e.g.,\n",
    "\n",
    "1. Provide few shot examples.\n",
    "2. Add error handling (e.g., catch the exception and feed it back to the LLM to ask it to correct its previous output)."
   ]
  },
  {
   "cell_type": "code",
   "execution_count": 14,
   "id": "2b12f435",
   "metadata": {},
   "outputs": [
    {
     "name": "stdout",
     "output_type": "stream",
     "text": [
      "--\n",
      "calculate_area\n",
      "Calculate the area of a rectangle given its length and width.\n",
      "{'length': {'title': 'Length', 'type': 'number'}, 'width': {'title': 'Width', 'type': 'number'}}\n",
      "--\n",
      "calculate_bmi\n",
      "Calculate Body Mass Index (BMI) given weight in kg and height in meters.\n",
      "{'weight': {'title': 'Weight', 'type': 'number'}, 'height': {'title': 'Height', 'type': 'number'}}\n",
      "--\n",
      "convert_temperature\n",
      "Convert temperature between Celsius, Fahrenheit and Kelvin.\n",
      "    Supported units: 'C' (Celsius), 'F' (Fahrenheit), 'K' (Kelvin).\n",
      "{'value': {'title': 'Value', 'type': 'number'}, 'from_unit': {'title': 'From Unit', 'type': 'string'}, 'to_unit': {'title': 'To Unit', 'type': 'string'}}\n"
     ]
    }
   ],
   "source": [
    "from langchain_core.tools import tool\n",
    "\n",
    "# New tools replacing the existing ones\n",
    "@tool\n",
    "def calculate_area(length: float, width: float) -> float:\n",
    "    \"\"\"Calculate the area of a rectangle given its length and width.\"\"\"\n",
    "    return length * width\n",
    "\n",
    "@tool\n",
    "def calculate_bmi(weight: float, height: float) -> float:\n",
    "    \"\"\"Calculate Body Mass Index (BMI) given weight in kg and height in meters.\"\"\"\n",
    "    return weight / (height ** 2)\n",
    "\n",
    "@tool\n",
    "def convert_temperature(value: float, from_unit: str, to_unit: str) -> float:\n",
    "    \"\"\"Convert temperature between Celsius, Fahrenheit and Kelvin.\n",
    "    Supported units: 'C' (Celsius), 'F' (Fahrenheit), 'K' (Kelvin).\"\"\"\n",
    "    if from_unit == \"C\" and to_unit == \"F\":\n",
    "        return (value * 9/5) + 32\n",
    "    elif from_unit == \"F\" and to_unit == \"C\":\n",
    "        return (value - 32) * 5/9\n",
    "    elif from_unit == \"C\" and to_unit == \"K\":\n",
    "        return value + 273.15\n",
    "    elif from_unit == \"K\" and to_unit == \"C\":\n",
    "        return value - 273.15\n",
    "    elif from_unit == \"F\" and to_unit == \"K\":\n",
    "        return (value - 32) * 5/9 + 273.15\n",
    "    elif from_unit == \"K\" and to_unit == \"F\":\n",
    "        return (value - 273.15) * 9/5 + 32\n",
    "    else:\n",
    "        return value  # if same units or unsupported conversion\n",
    "\n",
    "tools = [calculate_area, calculate_bmi, convert_temperature]\n",
    "\n",
    "# Let's inspect the new tools\n",
    "for t in tools:\n",
    "    print(\"--\")\n",
    "    print(t.name)\n",
    "    print(t.description)\n",
    "    print(t.args)"
   ]
  },
  {
   "cell_type": "code",
   "execution_count": 15,
   "id": "ed742e52",
   "metadata": {},
   "outputs": [
    {
     "name": "stdout",
     "output_type": "stream",
     "text": [
      "Area of 5x3 rectangle: 15.0\n",
      "BMI for 70kg, 1.75m: 22.857142857142858\n",
      "25°C to Fahrenheit: 77.0\n"
     ]
    }
   ],
   "source": [
    "# Test the new tools\n",
    "print(\"Area of 5x3 rectangle:\", calculate_area.invoke({\"length\": 5, \"width\": 3}))\n",
    "print(\"BMI for 70kg, 1.75m:\", calculate_bmi.invoke({\"weight\": 70, \"height\": 1.75}))\n",
    "print(\"25°C to Fahrenheit:\", convert_temperature.invoke({\"value\": 25, \"from_unit\": \"C\", \"to_unit\": \"F\"}))"
   ]
  },
  {
   "cell_type": "code",
   "execution_count": 16,
   "id": "0e828af2",
   "metadata": {},
   "outputs": [
    {
     "name": "stdout",
     "output_type": "stream",
     "text": [
      "calculate_area(length: float, width: float) -> float - Calculate the area of a rectangle given its length and width.\n",
      "calculate_bmi(weight: float, height: float) -> float - Calculate Body Mass Index (BMI) given weight in kg and height in meters.\n",
      "convert_temperature(value: float, from_unit: str, to_unit: str) -> float - Convert temperature between Celsius, Fahrenheit and Kelvin.\n",
      "    Supported units: 'C' (Celsius), 'F' (Fahrenheit), 'K' (Kelvin).\n"
     ]
    }
   ],
   "source": [
    "from langchain_core.output_parsers import JsonOutputParser\n",
    "from langchain_core.prompts import ChatPromptTemplate\n",
    "from langchain_core.tools import render_text_description\n",
    "\n",
    "rendered_tools = render_text_description(tools)\n",
    "print(rendered_tools)\n",
    "\n",
    "system_prompt = f\"\"\"\\\n",
    "You are an assistant that has access to the following set of tools. \n",
    "Here are the names and descriptions for each tool:\n",
    "\n",
    "{rendered_tools}\n",
    "\n",
    "Given the user input, return the name and input of the tool to use. \n",
    "Return your response as a JSON blob with 'name' and 'arguments' keys.\n",
    "\n",
    "The `arguments` should be a dictionary, with keys corresponding \n",
    "to the argument names and the values corresponding to the requested values.\n",
    "\"\"\"\n",
    "\n",
    "prompt = ChatPromptTemplate.from_messages(\n",
    "    [(\"system\", system_prompt), (\"user\", \"{input}\")]\n",
    ")"
   ]
  },
  {
   "cell_type": "code",
   "execution_count": 17,
   "id": "1c0b7e16",
   "metadata": {},
   "outputs": [
    {
     "name": "stdout",
     "output_type": "stream",
     "text": [
      "Area calculation request:\n",
      "{'name': 'calculate_area', 'arguments': {'length': 3.658, 'width': 2.439}}\n",
      "\n",
      "BMI calculation request:\n",
      "{'name': 'calculate_bmi', 'arguments': {'weight': 68, 'height': 1.72}}\n",
      "\n",
      "Temperature conversion request:\n",
      "{'name': 'convert_temperature', 'arguments': {'value': 98.6, 'from_unit': 'F'}}\n"
     ]
    }
   ],
   "source": [
    "chain = prompt | model | JsonOutputParser()\n",
    "\n",
    "# Test area calculation\n",
    "print(\"Area calculation request:\")\n",
    "print(chain.invoke({\"input\": \"What's the area of a room that's 12 feet long and 8 feet wide?\"}))\n",
    "\n",
    "# Test BMI calculation\n",
    "print(\"\\nBMI calculation request:\")\n",
    "print(chain.invoke({\"input\": \"Calculate my BMI if I weigh 68kg and am 1.72m tall\"}))\n",
    "\n",
    "# Test temperature conversion\n",
    "print(\"\\nTemperature conversion request:\")\n",
    "print(chain.invoke({\"input\": \"Convert 98.6 Fahrenheit to Celsius\"}))"
   ]
  },
  {
   "cell_type": "code",
   "execution_count": null,
   "id": "c3f8edf0",
   "metadata": {},
   "outputs": [
    {
     "name": "stdout",
     "output_type": "stream",
     "text": [
      "🚀 Starting tool chain tests...\n",
      "\n",
      "🧪 Area calculation:\n",
      "Query: What's the area of a 5m by 3m rectangle?\n",
      "⏱️ Execution time: 22.98s\n",
      "Result: {'name': 'calculate_area', 'arguments': {'length': 5, 'width': 3}, 'output': 15.0}\n",
      "--------------------------------------------------\n",
      "🧪 BMI calculation:\n",
      "Query: Calculate BMI for 80kg and 1.8m height\n",
      "⏱️ Execution time: 165.79s\n",
      "Result: {'name': 'calculate_bmi', 'arguments': {'weight': 80, 'height': 1.8}, 'output': 24.691358024691358}\n",
      "--------------------------------------------------\n",
      "🧪 Temperature conversion:\n",
      "Query: Convert 25 Celsius to Fahrenheit\n",
      "⏱️ Execution time: 28.62s\n",
      "Result: {'name': 'convert_temperature', 'arguments': {'value': 25, 'from_unit': 'C', 'to_unit': 'F'}, 'output': 77.0}\n",
      "--------------------------------------------------\n"
     ]
    }
   ],
   "source": [
    "from typing import Any, Dict, Optional, TypedDict\n",
    "from langchain_core.runnables import RunnableConfig, RunnablePassthrough\n",
    "from langchain.cache import InMemoryCache\n",
    "from langchain.globals import set_llm_cache\n",
    "\n",
    "# Enable caching to avoid redundant computations\n",
    "set_llm_cache(InMemoryCache())\n",
    "\n",
    "class ToolCallRequest(TypedDict):\n",
    "    \"\"\"A typed dict for tool invocation inputs.\"\"\"\n",
    "    name: str\n",
    "    arguments: Dict[str, Any]\n",
    "\n",
    "def invoke_tool(\n",
    "    tool_call_request: ToolCallRequest, \n",
    "    config: Optional[RunnableConfig] = None\n",
    ") -> Any:\n",
    "    \"\"\"Optimized tool invocation function with error handling.\"\"\"\n",
    "    try:\n",
    "        # Create tool mapping only once (more efficient for repeated calls)\n",
    "        if not hasattr(invoke_tool, 'tool_map'):\n",
    "            invoke_tool.tool_map = {tool.name: tool for tool in tools}\n",
    "        \n",
    "        tool = invoke_tool.tool_map[tool_call_request[\"name\"]]\n",
    "        return tool.invoke(tool_call_request[\"arguments\"], config=config)\n",
    "    except KeyError:\n",
    "        raise ValueError(f\"Tool {tool_call_request['name']} not found\")\n",
    "    except Exception as e:\n",
    "        raise ValueError(f\"Tool invocation failed: {str(e)}\")\n",
    "\n",
    "# Create the processing chain\n",
    "processing_chain = (\n",
    "    prompt \n",
    "    | model \n",
    "    | JsonOutputParser()\n",
    "    | RunnablePassthrough.assign(output=invoke_tool)\n",
    ")\n",
    "\n",
    "def run_tool_test(input_query: str) -> Dict:\n",
    "    \"\"\"Helper function to run tests with timing information.\"\"\"\n",
    "    from time import time\n",
    "    start_time = time()\n",
    "    \n",
    "    try:\n",
    "        result = processing_chain.invoke({\"input\": input_query})\n",
    "        elapsed = time() - start_time\n",
    "        print(f\"⏱️ Execution time: {elapsed:.2f}s\")\n",
    "        return result\n",
    "    except Exception as e:\n",
    "        print(f\"❌ Error processing query: {input_query}\")\n",
    "        print(f\"Error details: {str(e)}\")\n",
    "        return {}\n",
    "\n",
    "# Test cases\n",
    "test_cases = [\n",
    "    (\"Area calculation\", \"What's the area of a 5m by 3m rectangle?\"),\n",
    "    (\"BMI calculation\", \"Calculate BMI for 80kg and 1.8m height\"),\n",
    "    (\"Temperature conversion\", \"Convert 25 Celsius to Fahrenheit\")\n",
    "]\n",
    "\n",
    "print(\"🚀 Starting tool chain tests...\\n\")\n",
    "for name, query in test_cases:\n",
    "    print(f\"🧪 {name}:\")\n",
    "    print(\"Query:\", query)\n",
    "    result = run_tool_test(query)\n",
    "    print(\"Result:\", result)\n",
    "    print(\"-\" * 50)\n",
    "    ##\n"
   ]
  }
 ],
 "metadata": {
  "kernelspec": {
   "display_name": ".venv",
   "language": "python",
   "name": "python3"
  },
  "language_info": {
   "codemirror_mode": {
    "name": "ipython",
    "version": 3
   },
   "file_extension": ".py",
   "mimetype": "text/x-python",
   "name": "python",
   "nbconvert_exporter": "python",
   "pygments_lexer": "ipython3",
   "version": "3.11.9"
  }
 },
 "nbformat": 4,
 "nbformat_minor": 5
}
